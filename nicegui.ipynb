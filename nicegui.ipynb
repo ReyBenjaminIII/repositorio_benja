{
 "cells": [
  {
   "cell_type": "code",
   "execution_count": 5,
   "metadata": {},
   "outputs": [],
   "source": [
    "from nicegui import ui\n",
    "\n",
    "class Demo:\n",
    "    def __init__(self):\n",
    "        self.number = 1\n",
    "\n",
    "demo = Demo()\n",
    "v = ui.checkbox('visible', value=True)\n",
    "with ui.column().bind_visibility_from(v, 'value'):\n",
    "    ui.slider(min=1, max=3).bind_value(demo, 'number')\n",
    "    ui.toggle({1: 'A', 2: 'B', 3: 'C'}).bind_value(demo, 'number')\n",
    "    ui.number().bind_value(demo, 'number')\n",
    "\n",
    "ui.run()\n"
   ]
  }
 ],
 "metadata": {
  "kernelspec": {
   "display_name": "base",
   "language": "python",
   "name": "python3"
  },
  "language_info": {
   "codemirror_mode": {
    "name": "ipython",
    "version": 3
   },
   "file_extension": ".py",
   "mimetype": "text/x-python",
   "name": "python",
   "nbconvert_exporter": "python",
   "pygments_lexer": "ipython3",
   "version": "3.9.13"
  },
  "orig_nbformat": 4,
  "vscode": {
   "interpreter": {
    "hash": "9d086509aaeb5e539da19cb85f3c88addd90a702139094948d5541b64c94bb68"
   }
  }
 },
 "nbformat": 4,
 "nbformat_minor": 2
}
